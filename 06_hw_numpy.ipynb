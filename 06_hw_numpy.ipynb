{
 "cells": [
  {
   "cell_type": "markdown",
   "metadata": {
    "id": "WOqKW4i-lkLu"
   },
   "source": [
    "# Домашняя работа. Numpy\n",
    "\n",
    "1. Скачайте этот ноутбук к себе.\n",
    "2. Заполните пропущенные ячейки, отвечая на заданные вопросы. Там должен быть код! (если не сказано обратное)\n",
    "3. Сохраните результат в своём гитхаб репозитории.\n",
    "\n",
    "#### Полезная литература\n",
    "\n",
    "- http://www.numpy.org/\n",
    "- https://jakevdp.github.io/PythonDataScienceHandbook/02.00-introduction-to-numpy.html\n",
    "- https://docs.scipy.org/doc/numpy/user/quickstart.html"
   ]
  },
  {
   "cell_type": "markdown",
   "metadata": {
    "id": "UR8qFJ5PlkLv"
   },
   "source": [
    "1) Импортировать numpy и написать версию"
   ]
  },
  {
   "cell_type": "code",
   "execution_count": 1,
   "metadata": {
    "colab": {
     "base_uri": "https://localhost:8080/"
    },
    "id": "W-qc-CVHlkLv",
    "outputId": "6eefe5de-ef63-49ec-be65-3fa7c7127ec0"
   },
   "outputs": [
    {
     "name": "stdout",
     "output_type": "stream",
     "text": [
      "1.26.4\n"
     ]
    }
   ],
   "source": [
    "import numpy as np\n",
    "print(np.__version__)"
   ]
  },
  {
   "cell_type": "markdown",
   "metadata": {
    "id": "E4UmK80klkLw"
   },
   "source": [
    "2) Создать нулевой вектор размера 10"
   ]
  },
  {
   "cell_type": "code",
   "execution_count": 2,
   "metadata": {
    "colab": {
     "base_uri": "https://localhost:8080/"
    },
    "id": "-q1wyq88lkLw",
    "outputId": "d07d1bce-39cd-4839-f07a-d39acfaa4dae"
   },
   "outputs": [
    {
     "name": "stdout",
     "output_type": "stream",
     "text": [
      "[0. 0. 0. 0. 0. 0. 0. 0. 0. 0.]\n"
     ]
    }
   ],
   "source": [
    "zero_vector = np.zeros(10)\n",
    "print(zero_vector)"
   ]
  },
  {
   "cell_type": "markdown",
   "metadata": {
    "id": "CFQHs-Q8lkLw"
   },
   "source": [
    "3) Создать вектор заполненный 7-ами размера 7"
   ]
  },
  {
   "cell_type": "code",
   "execution_count": 3,
   "metadata": {
    "colab": {
     "base_uri": "https://localhost:8080/"
    },
    "id": "ddaEcPp9lkLw",
    "outputId": "314a5641-32d2-4949-ef3d-8630137331c1"
   },
   "outputs": [
    {
     "name": "stdout",
     "output_type": "stream",
     "text": [
      "[7 7 7 7 7 7 7]\n"
     ]
    }
   ],
   "source": [
    "seven_vector = np.full(7, 7)\n",
    "print(seven_vector)"
   ]
  },
  {
   "cell_type": "markdown",
   "metadata": {
    "id": "TcjBJeAllkLw"
   },
   "source": [
    "4) Создать вектор заполненный четными числами от 10 до 100"
   ]
  },
  {
   "cell_type": "code",
   "execution_count": 4,
   "metadata": {
    "colab": {
     "base_uri": "https://localhost:8080/"
    },
    "id": "RaA25aEdlkLw",
    "outputId": "2ac1b036-3ff0-48a0-f7df-5f87de19e6a0"
   },
   "outputs": [
    {
     "name": "stdout",
     "output_type": "stream",
     "text": [
      "[ 10  12  14  16  18  20  22  24  26  28  30  32  34  36  38  40  42  44\n",
      "  46  48  50  52  54  56  58  60  62  64  66  68  70  72  74  76  78  80\n",
      "  82  84  86  88  90  92  94  96  98 100]\n"
     ]
    }
   ],
   "source": [
    "even_vector = np.arange(10, 101, 2)\n",
    "print(even_vector)"
   ]
  },
  {
   "cell_type": "markdown",
   "metadata": {
    "id": "9VGzQSHUlkLw"
   },
   "source": [
    "5) Создать массив случайных чисел и развернуть его задом наперёд"
   ]
  },
  {
   "cell_type": "code",
   "execution_count": 5,
   "metadata": {
    "colab": {
     "base_uri": "https://localhost:8080/"
    },
    "id": "4cMoODrClkLw",
    "outputId": "3a675d74-fa1a-4df3-a871-f54fcbea0985"
   },
   "outputs": [
    {
     "name": "stdout",
     "output_type": "stream",
     "text": [
      "[0.10505338 0.7006509  0.06168462 0.391427   0.82726315 0.3781904\n",
      " 0.23468773 0.82624198 0.89591445 0.94819234]\n",
      "[0.94819234 0.89591445 0.82624198 0.23468773 0.3781904  0.82726315\n",
      " 0.391427   0.06168462 0.7006509  0.10505338]\n"
     ]
    }
   ],
   "source": [
    "random_array = np.random.rand(10)\n",
    "print(random_array)\n",
    "print(random_array[::-1])"
   ]
  },
  {
   "cell_type": "markdown",
   "metadata": {
    "id": "eCyZ3WUSlkLw"
   },
   "source": [
    "6) Создать двумерную матрицу размера 3 на 3, заполненную числами от 0 до 9"
   ]
  },
  {
   "cell_type": "code",
   "execution_count": 6,
   "metadata": {
    "colab": {
     "base_uri": "https://localhost:8080/"
    },
    "id": "20HuRNqPlkLw",
    "outputId": "1ca20cdb-84e2-4d89-97d0-f1de6650738c"
   },
   "outputs": [
    {
     "name": "stdout",
     "output_type": "stream",
     "text": [
      "[[0 1 2]\n",
      " [3 4 5]\n",
      " [6 7 8]]\n"
     ]
    }
   ],
   "source": [
    "matrix = np.arange(9).reshape(3, 3)\n",
    "print(matrix)"
   ]
  },
  {
   "cell_type": "markdown",
   "metadata": {
    "id": "TzSrbG1klkLx"
   },
   "source": [
    "7) Создать матрицу размера 4 на 4 с единицами на диагонали смещеной на один наверх."
   ]
  },
  {
   "cell_type": "code",
   "execution_count": 8,
   "metadata": {
    "colab": {
     "base_uri": "https://localhost:8080/"
    },
    "id": "fE4RuaNSlkLx",
    "outputId": "e0006609-b777-4a4f-86fa-6e7ce6df639d"
   },
   "outputs": [
    {
     "name": "stdout",
     "output_type": "stream",
     "text": [
      "[[0. 1. 0. 0.]\n",
      " [0. 0. 1. 0.]\n",
      " [0. 0. 0. 1.]\n",
      " [0. 0. 0. 0.]]\n"
     ]
    }
   ],
   "source": [
    "matrix = np.eye(4, k=1)\n",
    "print(matrix)"
   ]
  },
  {
   "cell_type": "markdown",
   "metadata": {
    "id": "7PDhgyK4lkLx"
   },
   "source": [
    "8) Создать матрицу с числами в диапазоне от 1 до 4 по диагонали. В других ячейках матрицы должны быть семерки."
   ]
  },
  {
   "cell_type": "code",
   "execution_count": 9,
   "metadata": {
    "colab": {
     "base_uri": "https://localhost:8080/"
    },
    "id": "8LYXJMGjlkLx",
    "outputId": "df07627d-8070-4bb4-8390-3e0d51a745cf"
   },
   "outputs": [
    {
     "name": "stdout",
     "output_type": "stream",
     "text": [
      "[[1 7 7 7]\n",
      " [7 2 7 7]\n",
      " [7 7 3 7]\n",
      " [7 7 7 4]]\n"
     ]
    }
   ],
   "source": [
    "matrix = np.full((4, 4), 7)\n",
    "np.fill_diagonal(matrix, np.arange(1, 5))\n",
    "print(matrix)"
   ]
  },
  {
   "cell_type": "markdown",
   "metadata": {
    "id": "C-74zVMXlkLx"
   },
   "source": [
    "9) Создать матрицу размера 5 на 5 заполненную чилами от 0 до 4 в строках."
   ]
  },
  {
   "cell_type": "code",
   "execution_count": 10,
   "metadata": {
    "colab": {
     "base_uri": "https://localhost:8080/"
    },
    "id": "rL6fZqSZlkLx",
    "outputId": "07b2515c-a3c3-4e54-b7dc-9474045b8a27"
   },
   "outputs": [
    {
     "name": "stdout",
     "output_type": "stream",
     "text": [
      "[[0 1 2 3 4]\n",
      " [0 1 2 3 4]\n",
      " [0 1 2 3 4]\n",
      " [0 1 2 3 4]\n",
      " [0 1 2 3 4]]\n"
     ]
    }
   ],
   "source": [
    "matrix = np.tile(np.arange(5), (5, 1))\n",
    "print(matrix)"
   ]
  },
  {
   "cell_type": "markdown",
   "metadata": {
    "id": "j-OT6Si3lkLx"
   },
   "source": [
    "10) Создать матрицу случайных чисел размера 10 на 10 и отнять среднее по строкам из каждого элемента строки"
   ]
  },
  {
   "cell_type": "code",
   "execution_count": 11,
   "metadata": {
    "colab": {
     "base_uri": "https://localhost:8080/"
    },
    "id": "lipld2qJlkLx",
    "outputId": "49119eca-fc3a-429c-e4e4-0418bd35de4d"
   },
   "outputs": [
    {
     "name": "stdout",
     "output_type": "stream",
     "text": [
      "[[ 0.00587368  0.06431478 -0.05555117 -0.45118466 -0.12017139  0.33891826\n",
      "   0.33236593  0.35131885 -0.5323982   0.06651393]\n",
      " [ 0.47208795 -0.02559992 -0.02198139  0.11012434 -0.29406496 -0.07720613\n",
      "   0.12543378  0.09334268 -0.12371841 -0.25841795]\n",
      " [-0.32792071 -0.29545664  0.39944753 -0.38629231 -0.07840914  0.47953674\n",
      "  -0.0092272   0.44455416 -0.29690287  0.07067043]\n",
      " [-0.34165733  0.25586752  0.10485684  0.29220708  0.0574477  -0.46232751\n",
      "   0.12714188  0.15962589  0.10704895 -0.30021102]\n",
      " [-0.37206909  0.0662816   0.10951329  0.07053458 -0.31347536  0.42054277\n",
      "   0.28334088  0.08553066 -0.03521484 -0.31498448]\n",
      " [ 0.35196748 -0.26022491 -0.20794525  0.32119452 -0.13713646 -0.5127159\n",
      "   0.4601021   0.04324706 -0.12026976  0.06178112]\n",
      " [ 0.07858305  0.31751267  0.23168071 -0.31105509  0.16210889 -0.2399837\n",
      "  -0.410899   -0.382575    0.29410747  0.26052001]\n",
      " [-0.25826325  0.24939317 -0.31453219  0.3979026  -0.31240463 -0.17460753\n",
      "   0.0971885   0.52201052 -0.28276638  0.0760792 ]\n",
      " [ 0.3141892   0.10840713 -0.44156572  0.15639047  0.2167681  -0.30879549\n",
      "  -0.01150488  0.2066818   0.19547068 -0.4360413 ]\n",
      " [-0.42839658 -0.21172085 -0.11055091 -0.11561178 -0.09581009  0.30976558\n",
      "   0.38785792  0.2268211   0.42365701 -0.38601141]]\n"
     ]
    }
   ],
   "source": [
    "random_matrix = np.random.rand(10, 10)\n",
    "mean_rows = np.mean(random_matrix, axis=1, keepdims=True)\n",
    "result_matrix = random_matrix - mean_rows\n",
    "print(result_matrix)"
   ]
  },
  {
   "cell_type": "markdown",
   "metadata": {
    "id": "ubCkXksVlkLx"
   },
   "source": [
    "11) Создать матрицу случайных чисел размера 10 на 10 и отнять медиану по столбцам из каждого элемента столбца  "
   ]
  },
  {
   "cell_type": "code",
   "execution_count": 12,
   "metadata": {
    "colab": {
     "base_uri": "https://localhost:8080/"
    },
    "id": "fc-NdBw-lkLx",
    "outputId": "3f00560d-59c6-45ba-dc7d-46e6b5af62e9"
   },
   "outputs": [
    {
     "name": "stdout",
     "output_type": "stream",
     "text": [
      "[[-0.30999765 -0.54533769  0.39917482  0.42575761 -0.02448512  0.52574582\n",
      "   0.0268417   0.12079198 -0.34701355 -0.05385663]\n",
      " [-0.13753771 -0.30092165  0.0634119   0.09149759  0.27806437 -0.08649667\n",
      "  -0.20706712 -0.38345976  0.14796462  0.14947577]\n",
      " [-0.0802532   0.40374901 -0.04052857 -0.00429538  0.45238171 -0.04944577\n",
      "   0.24079543  0.10360292 -0.17177806 -0.42211075]\n",
      " [ 0.37307517  0.39794513  0.03500539  0.00331284 -0.11223513 -0.19092262\n",
      "   0.02378641 -0.10360292 -0.26869909 -0.25952851]\n",
      " [ 0.3559263   0.24079968 -0.23760874 -0.31045202  0.28030764  0.37829714\n",
      "  -0.55924793 -0.50317042  0.12682052 -0.44253976]\n",
      " [-0.26530606  0.35970216  0.54348985  0.29883693 -0.2300334   0.23606712\n",
      "  -0.59541883  0.16755987 -0.44635935 -0.42422801]\n",
      " [-0.11447788 -0.36931249 -0.03500539 -0.24011316  0.02448512  0.01122725\n",
      "  -0.42270504 -0.50506397  0.1527921   0.05385663]\n",
      " [ 0.0802532   0.32838011 -0.06383168 -0.04090771  0.034668    0.59250575\n",
      "   0.22021381  0.31525983 -0.03827254  0.16603961]\n",
      " [ 0.12499021 -0.54205961 -0.40967773  0.49258685 -0.3042675  -0.27741269\n",
      "   0.33833805 -0.13429856  0.03827254  0.22641347]\n",
      " [ 0.19348413 -0.24079968  0.33229275 -0.00331284 -0.21944626 -0.01122725\n",
      "  -0.02378641  0.31279414  0.23345048  0.08188146]]\n"
     ]
    }
   ],
   "source": [
    "random_matrix = np.random.rand(10, 10)\n",
    "median_cols = np.median(random_matrix, axis=0, keepdims=True)\n",
    "result_matrix = random_matrix - median_cols\n",
    "print(result_matrix)"
   ]
  },
  {
   "cell_type": "markdown",
   "metadata": {
    "id": "Fz9RGOrJlkLx"
   },
   "source": [
    "12) Создать матрицу случайных чисел 5x5. Добавить к ней столбецы максимумов и минимумов по строкам. Получится матрица 5x7.  "
   ]
  },
  {
   "cell_type": "code",
   "execution_count": 26,
   "metadata": {
    "colab": {
     "base_uri": "https://localhost:8080/"
    },
    "id": "BJYA6HnalkLy",
    "outputId": "575ea2b4-6a73-48d5-db3a-e31710579f80"
   },
   "outputs": [
    {
     "name": "stdout",
     "output_type": "stream",
     "text": [
      "[[0.51843373 0.37347512 0.42684038 0.51621152 0.20760917 0.51843373\n",
      "  0.20760917]\n",
      " [0.27974003 0.73974344 0.09377582 0.96621994 0.11499162 0.96621994\n",
      "  0.09377582]\n",
      " [0.37173354 0.84949692 0.25895023 0.58230501 0.9435173  0.9435173\n",
      "  0.25895023]\n",
      " [0.88859921 0.11865744 0.74674478 0.40667026 0.23180493 0.88859921\n",
      "  0.11865744]\n",
      " [0.64219496 0.88290178 0.29495826 0.59494078 0.06572702 0.88290178\n",
      "  0.06572702]]\n"
     ]
    }
   ],
   "source": [
    "import numpy as np\n",
    "\n",
    "matrix = np.random.rand(5, 5)\n",
    "\n",
    "row_max = np.max(matrix, axis=1)\n",
    "row_min = np.min(matrix, axis=1)\n",
    "\n",
    "result = np.concatenate((matrix, np.column_stack((row_max, row_min))), axis=1)\n",
    "\n",
    "print(result)"
   ]
  },
  {
   "cell_type": "markdown",
   "metadata": {
    "id": "qaZuXlWrlkLy"
   },
   "source": [
    "13) Вектор чисел от 1 до 51 преобразовать в вектор нечетных чисел и в вектор четных чисел, поменять их размерности, чтобы получились две матрица. Найти произведение этих матриц. Найти обратную матрицу эётого произведения.  "
   ]
  },
  {
   "cell_type": "code",
   "execution_count": null,
   "metadata": {
    "colab": {
     "base_uri": "https://localhost:8080/"
    },
    "id": "l3CL3LIulkLy",
    "outputId": "fa3fec5f-d547-4a8c-f374-55786e469a88"
   },
   "outputs": [
    {
     "name": "stdout",
     "output_type": "stream",
     "text": [
      "\n",
      "Нечетные числа:\n",
      " [ 1  3  5  7  9 11 13 15 17 19 21 23 25 27 29 31 33 35 37 39 41 43 45 47\n",
      " 49 51]\n",
      "\n",
      "Четные числа:\n",
      " [ 2  4  6  8 10 12 14 16 18 20 22 24 26 28 30 32 34 36 38 40 42 44 46 48\n",
      " 50]\n",
      "\n",
      "Произведение матриц:\n",
      " [[  190   440   690   940  1190]\n",
      " [  490  1240  1990  2740  3490]\n",
      " [  790  2040  3290  4540  5790]\n",
      " [ 1090  2840  4590  6340  8090]\n",
      " [ 1390  3640  5890  8140 10390]]\n",
      "\n",
      "Обратная матрица:\n",
      " [[ 2.47390116e+12 -2.19902326e+12 -2.19902326e+12  1.09951163e+12\n",
      "   8.24633721e+11]\n",
      " [-1.92414535e+12 -0.00000000e+00  4.39804651e+12 -1.09951163e+12\n",
      "  -1.37438953e+12]\n",
      " [-2.19902326e+12  4.39804651e+12 -2.19902326e+12 -0.00000000e+00\n",
      "   4.88281250e-04]\n",
      " [ 2.74877907e+11 -0.00000000e+00 -0.00000000e+00 -1.09951163e+12\n",
      "   8.24633721e+11]\n",
      " [ 1.37438953e+12 -2.19902326e+12 -0.00000000e+00  1.09951163e+12\n",
      "  -2.74877907e+11]]\n"
     ]
    }
   ],
   "source": [
    "import numpy as np\n",
    "\n",
    "vector = np.arange(1, 52)\n",
    "\n",
    "\n",
    "odd_numbers = vector[vector % 2 != 0]\n",
    "even_numbers = vector[vector % 2 == 0]\n",
    "\n",
    "print(\"\\nНечетные числа:\\n\", odd_numbers)\n",
    "print(\"\\nЧетные числа:\\n\", even_numbers)\n",
    "\n",
    "\n",
    "odd_numbers_matrix = odd_numbers[:25].reshape(5, 5)\n",
    "even_numbers_matrix = even_numbers.reshape(5, 5)\n",
    "\n",
    "\n",
    "product_matrix = np.dot(odd_numbers_matrix, even_numbers_matrix.T)\n",
    "\n",
    "try:\n",
    "    inverse_matrix = np.linalg.inv(product_matrix)\n",
    "    print(\"\\nПроизведение матриц:\\n\", product_matrix)\n",
    "    print(\"\\nОбратная матрица:\\n\", inverse_matrix)\n",
    "except np.linalg.LinAlgError:\n",
    "    print(\"Обратная матрица не существует.\")\n",
    "\n"
   ]
  },
  {
   "cell_type": "markdown",
   "metadata": {
    "id": "nlxMy5gplkLy"
   },
   "source": [
    "14) Создать 8x8 матрицу и заполнить её в шахматном порядке нулями и единицами."
   ]
  },
  {
   "cell_type": "code",
   "execution_count": 33,
   "metadata": {
    "colab": {
     "base_uri": "https://localhost:8080/"
    },
    "id": "M2XohklblkLy",
    "outputId": "cc9c78d6-26eb-4aad-9061-f15de9921987"
   },
   "outputs": [
    {
     "name": "stdout",
     "output_type": "stream",
     "text": [
      "[[0 1 0 1 0 1 0 1]\n",
      " [1 0 1 0 1 0 1 0]\n",
      " [0 1 0 1 0 1 0 1]\n",
      " [1 0 1 0 1 0 1 0]\n",
      " [0 1 0 1 0 1 0 1]\n",
      " [1 0 1 0 1 0 1 0]\n",
      " [0 1 0 1 0 1 0 1]\n",
      " [1 0 1 0 1 0 1 0]]\n"
     ]
    }
   ],
   "source": [
    "import numpy as np\n",
    "\n",
    "\n",
    "matrix = np.zeros((8, 8), dtype=int)\n",
    "\n",
    "\n",
    "matrix[1::2, ::2] = 1\n",
    "matrix[::2, 1::2] = 1\n",
    "\n",
    "print(matrix)"
   ]
  },
  {
   "cell_type": "code",
   "execution_count": 23,
   "metadata": {
    "id": "yBFkT9bOpRQV"
   },
   "outputs": [],
   "source": []
  }
 ],
 "metadata": {
  "colab": {
   "provenance": []
  },
  "kernelspec": {
   "display_name": "Python 3 (ipykernel)",
   "language": "python",
   "name": "python3"
  },
  "language_info": {
   "codemirror_mode": {
    "name": "ipython",
    "version": 3
   },
   "file_extension": ".py",
   "mimetype": "text/x-python",
   "name": "python",
   "nbconvert_exporter": "python",
   "pygments_lexer": "ipython3",
   "version": "3.12.4"
  }
 },
 "nbformat": 4,
 "nbformat_minor": 0
}
